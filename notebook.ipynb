{
 "cells": [
  {
   "cell_type": "code",
   "execution_count": 1,
   "id": "113c1be3",
   "metadata": {},
   "outputs": [
    {
     "name": "stdout",
     "output_type": "stream",
     "text": [
      "/Users/efimverzakov/CodeAsData/2023_similar_dev_search_verzakov/venv/bin/jupyter\r\n"
     ]
    }
   ],
   "source": [
    "!which jupyter"
   ]
  },
  {
   "cell_type": "code",
   "execution_count": 5,
   "id": "57ce38ca",
   "metadata": {},
   "outputs": [
    {
     "name": "stdout",
     "output_type": "stream",
     "text": [
      "Requirement already satisfied: tqdm in ./venv/lib/python3.9/site-packages (4.64.1)\n",
      "Requirement already satisfied: pydriller in ./venv/lib/python3.9/site-packages (2.4)\n",
      "Requirement already satisfied: types-pytz in ./venv/lib/python3.9/site-packages (from pydriller) (2022.7.1.0)\n",
      "Requirement already satisfied: pytz in ./venv/lib/python3.9/site-packages (from pydriller) (2022.7.1)\n",
      "Requirement already satisfied: gitpython in ./venv/lib/python3.9/site-packages (from pydriller) (3.1.30)\n",
      "Requirement already satisfied: lizard in ./venv/lib/python3.9/site-packages (from pydriller) (1.17.10)\n",
      "Requirement already satisfied: gitdb<5,>=4.0.1 in ./venv/lib/python3.9/site-packages (from gitpython->pydriller) (4.0.10)\n",
      "Requirement already satisfied: smmap<6,>=3.0.1 in ./venv/lib/python3.9/site-packages (from gitdb<5,>=4.0.1->gitpython->pydriller) (5.0.0)\n",
      "\u001b[33mWARNING: You are using pip version 21.2.3; however, version 23.0 is available.\n",
      "You should consider upgrading via the '/Users/efimverzakov/CodeAsData/2023_similar_dev_search_verzakov/venv/bin/python -m pip install --upgrade pip' command.\u001b[0m\n"
     ]
    }
   ],
   "source": [
    "!pip install tqdm pydriller"
   ]
  },
  {
   "cell_type": "code",
   "execution_count": 56,
   "id": "18413ff0",
   "metadata": {},
   "outputs": [],
   "source": [
    "from pydriller  import Repository\n",
    "from pprint import pprint\n",
    "from tqdm.auto import tqdm\n",
    "import unittest"
   ]
  },
  {
   "cell_type": "code",
   "execution_count": 66,
   "id": "a86e918e",
   "metadata": {},
   "outputs": [],
   "source": [
    "class FileInfo():\n",
    "    def __init__(self, added, deleted):\n",
    "        self.added = added\n",
    "        self.deleted = deleted\n",
    "    \n",
    "    def __str__(self):\n",
    "        return \"added: \" + str(self.added) + \" deleted: \" + str(self.deleted)\n",
    "    \n",
    "    def __repr__(self):\n",
    "        return \"added: \" + str(self.added) + \" deleted: \" + str(self.deleted)\n",
    "    \n",
    "    def __eq__(self, another):\n",
    "        return self.added == another.added and self.deleted == another.deleted\n",
    "\n",
    "class CommitKey():\n",
    "    def __init__(self, author, email):\n",
    "        self.author = author\n",
    "        self.email = email\n",
    "    \n",
    "    def __eq__(self, another):\n",
    "        attrs = hasattr(another, 'author') and hasattr(another, 'email')\n",
    "        if not attrs:\n",
    "            return False\n",
    "        \n",
    "        return self.author == another.author and self.email == another.email\n",
    "    \n",
    "    def __lt__(self, another):\n",
    "        return self.author < another.author and self.email < another.email\n",
    "    \n",
    "    def __repr__(self):\n",
    "        return \"author: \" + self.author + \" email: \" + self.email\n",
    "    \n",
    "    def __str__(self):\n",
    "        return \"author: \" + self.author + \" email: \" + self.email\n",
    "    \n",
    "    def __hash__(self):\n",
    "        return hash(self.author)^hash(self.email)"
   ]
  },
  {
   "cell_type": "code",
   "execution_count": 54,
   "id": "7b5b0f39",
   "metadata": {},
   "outputs": [],
   "source": [
    "def findInfo(path):\n",
    "    repo = Repository(path)\n",
    "    programmers = {}\n",
    "    \n",
    "    count = 0\n",
    "    for commit in repo.traverse_commits():\n",
    "        count += 1\n",
    "    \n",
    "    for commit in tqdm(repo.traverse_commits(), total=count):\n",
    "    \n",
    "        author = commit.author.name\n",
    "        email = commit.author.email\n",
    "\n",
    "        key = CommitKey(author, email)\n",
    "\n",
    "        if key not in programmers:\n",
    "            programmers[key] = {}\n",
    "\n",
    "        for file in commit.modified_files:\n",
    "\n",
    "            if file.filename not in programmers[key]:\n",
    "                programmers[key][file.filename] = FileInfo(0, 0)\n",
    "\n",
    "            programmers[key][file.filename].added += file.added_lines\n",
    "            programmers[key][file.filename].deleted += file.deleted_lines\n",
    "    return programmers\n",
    "\n",
    "def stat(programmers):\n",
    "    programmers_stats = []\n",
    "\n",
    "    for author in programmers:\n",
    "        edited = 0\n",
    "\n",
    "        for file in programmers[author]:\n",
    "            edited += programmers[author][file].added + programmers[author][file].deleted\n",
    "\n",
    "        programmers_stats += [(edited, author)]\n",
    "    \n",
    "    return sorted(programmers_stats, reverse = True)"
   ]
  },
  {
   "cell_type": "code",
   "execution_count": 89,
   "id": "fdf0faf3",
   "metadata": {},
   "outputs": [
    {
     "data": {
      "application/vnd.jupyter.widget-view+json": {
       "model_id": "baa6f148d5774fa0b0abaae1c9f7aabb",
       "version_major": 2,
       "version_minor": 0
      },
      "text/plain": [
       "  0%|          | 0/179 [00:00<?, ?it/s]"
      ]
     },
     "metadata": {},
     "output_type": "display_data"
    },
    {
     "name": "stdout",
     "output_type": "stream",
     "text": [
      "{author: Egor email: egorbu@gmail.com: {'.gitignore': added: 152 deleted: 0},\n",
      " author: alf3ratz email: 49417479+alf3ratz@users.noreply.github.com: {'.gitignore': added: 2 deleted: 0,\n",
      "                                                                      'Dockerfile': added: 8 deleted: 8,\n",
      "                                                                      'README.md': added: 36 deleted: 3,\n",
      "                                                                      'action.yml': added: 16 deleted: 16,\n",
      "                                                                      'ci.yml': added: 106 deleted: 108,\n",
      "                                                                      'enry_processor.py': added: 29 deleted: 0,\n",
      "                                                                      'entrypoint.sh': added: 5 deleted: 5,\n",
      "                                                                      'git_processor.py': added: 59 deleted: 13,\n",
      "                                                                      'git_test.py': added: 11 deleted: 11,\n",
      "                                                                      'helpers.py': added: 176 deleted: 38,\n",
      "                                                                      'main.py': added: 46 deleted: 25,\n",
      "                                                                      'preview.png': added: 0 deleted: 0,\n",
      "                                                                      'requirements.txt': added: 23 deleted: 15,\n",
      "                                                                      'setup.py': added: 23 deleted: 10,\n",
      "                                                                      'treesitter.py': added: 48 deleted: 0},\n",
      " author: alf3ratz email: apetropavlovskij@yandex.ru: {'Dockerfile': added: 49 deleted: 25,\n",
      "                                                      'README.md': added: 28 deleted: 25,\n",
      "                                                      '__init__.py': added: 24 deleted: 16,\n",
      "                                                      'ci.yml': added: 162 deleted: 290,\n",
      "                                                      'dev-search-result.json': added: 1635 deleted: 1635,\n",
      "                                                      'dev_search_result.json': added: 660329 deleted: 0,\n",
      "                                                      'docker-push.yml': added: 188 deleted: 189,\n",
      "                                                      'enry_processor.py': added: 16 deleted: 13,\n",
      "                                                      'enry_test.py': added: 45 deleted: 108,\n",
      "                                                      'git_processor.py': added: 12 deleted: 6,\n",
      "                                                      'git_test.py': added: 83 deleted: 213,\n",
      "                                                      'helpers.py': added: 75 deleted: 188,\n",
      "                                                      'list_of_repositories.txt': added: 8 deleted: 3,\n",
      "                                                      'main.py': added: 115 deleted: 51,\n",
      "                                                      'qwerty.java': added: 33 deleted: 66,\n",
      "                                                      'repository_url.txt': added: 3 deleted: 3,\n",
      "                                                      'requirements.txt': added: 4 deleted: 2,\n",
      "                                                      'setup.py': added: 50 deleted: 46,\n",
      "                                                      'simple_test.py': added: 35 deleted: 15,\n",
      "                                                      'star.json': added: 79 deleted: 0,\n",
      "                                                      'start_app.mp4': added: 0 deleted: 0,\n",
      "                                                      'treesitter.py': added: 161 deleted: 122,\n",
      "                                                      'treesitter_cloner.py': added: 20 deleted: 0,\n",
      "                                                      'treesitter_test.py': added: 57 deleted: 137}}\n"
     ]
    }
   ],
   "source": [
    "pprint(findInfo(\"tests/repos/2022_similar_dev_search_petropavlovskiy\"))"
   ]
  },
  {
   "cell_type": "code",
   "execution_count": 91,
   "id": "988a4646",
   "metadata": {},
   "outputs": [
    {
     "name": "stderr",
     "output_type": "stream",
     "text": [
      "test_first_repo (__main__.CheckFindInfo) ... "
     ]
    },
    {
     "data": {
      "application/vnd.jupyter.widget-view+json": {
       "model_id": "d4b5655028834b5ba3f54fc84a5a6989",
       "version_major": 2,
       "version_minor": 0
      },
      "text/plain": [
       "  0%|          | 0/22 [00:00<?, ?it/s]"
      ]
     },
     "metadata": {},
     "output_type": "display_data"
    },
    {
     "name": "stderr",
     "output_type": "stream",
     "text": [
      "ok\n",
      "test_second_repo (__main__.CheckFindInfo) ... "
     ]
    },
    {
     "data": {
      "application/vnd.jupyter.widget-view+json": {
       "model_id": "4ca7d26a9d62449bbb1d3f6c22c98688",
       "version_major": 2,
       "version_minor": 0
      },
      "text/plain": [
       "  0%|          | 0/40 [00:00<?, ?it/s]"
      ]
     },
     "metadata": {},
     "output_type": "display_data"
    },
    {
     "name": "stderr",
     "output_type": "stream",
     "text": [
      "ok\n",
      "test_third_repo (__main__.CheckFindInfo) ... "
     ]
    },
    {
     "data": {
      "application/vnd.jupyter.widget-view+json": {
       "model_id": "be35a20cd1764b0ab10490c24079b486",
       "version_major": 2,
       "version_minor": 0
      },
      "text/plain": [
       "  0%|          | 0/179 [00:00<?, ?it/s]"
      ]
     },
     "metadata": {},
     "output_type": "display_data"
    },
    {
     "name": "stderr",
     "output_type": "stream",
     "text": [
      "ok\n",
      "\n",
      "----------------------------------------------------------------------\n",
      "Ran 3 tests in 7.985s\n",
      "\n",
      "OK\n"
     ]
    }
   ],
   "source": [
    "class CheckFindInfo(unittest.TestCase):\n",
    "    \n",
    "    def test_first_repo(self):\n",
    "        info = findInfo(\"tests/repos/2022_similar_dev_search_skrypnikov\")\n",
    "        \n",
    "        programmers = {}\n",
    "        \n",
    "        author1 = CommitKey(\"Egor\", \"egorbu@gmail.com\")\n",
    "        files1 = {}\n",
    "        files1[\".gitignore\"] = FileInfo(152, 0)\n",
    "        programmers[author1] = files1\n",
    "        \n",
    "        author2 = CommitKey(\"egor skrypnikov\", \"eskrypn@gmail.com\")\n",
    "        files2 = {\n",
    "            '.gitignore': FileInfo(8, 3),\n",
    "            'README.md': FileInfo(28, 0),\n",
    "            '__init__.py': FileInfo(5,3),\n",
    "            'analysis.py': FileInfo(344, 121),\n",
    "            'build_enry.sh': FileInfo(29, 0),\n",
    "            'classes.py': FileInfo(275, 45),\n",
    "            'enry_scikit-learn.json':  FileInfo(1, 1),\n",
    "            'enry_stage.py': FileInfo(15, 15),\n",
    "            'repoparse.py': FileInfo(982, 562),\n",
    "            'requirements.txt': FileInfo(10, 3),\n",
    "            'shared.py': FileInfo(48, 48),\n",
    "            'treesitter_stage.py': FileInfo(34, 34),\n",
    "            'utils.py': FileInfo(120, 18),\n",
    "        }\n",
    "        programmers[author2] = files2\n",
    "        \n",
    "        self.assertEqual(len(info), len(programmers))\n",
    "        \n",
    "        for author in info.keys():\n",
    "            self.assertEqual(len(info[author]), len(programmers[author]))\n",
    "            \n",
    "            for key in info[author].keys():\n",
    "                self.assertEqual(info[author][key], programmers[author][key])\n",
    "    \n",
    "    def test_second_repo(self):\n",
    "        info = findInfo(\"tests/repos/2022_similar_dev_search_kononov\")\n",
    "        \n",
    "        programmers = {}\n",
    "        \n",
    "        author1 = CommitKey(\"Alexey Kononov\", \"62846387+Alex5041@users.noreply.github.com\")\n",
    "        files1 = {\n",
    "            'README.md': FileInfo(49, 15),\n",
    "            'main.py': FileInfo(138, 23),\n",
    "        }\n",
    "        programmers[author1] = files1\n",
    "        \n",
    "        author2 = CommitKey(\"Egor\", \"egorbu@gmail.com\")\n",
    "        files2 = {\n",
    "            '.gitignore': FileInfo(152, 0),\n",
    "        }\n",
    "        programmers[author2] = files2\n",
    "        \n",
    "        author3 = CommitKey(\"Alex5041\", \"kononal@gmail.com\")\n",
    "        files3 = {\n",
    "            '.gitignore': FileInfo(1, 0),\n",
    "            'README.md': FileInfo(141, 12),\n",
    "            '__init__.py': FileInfo(0, 0),\n",
    "            'dev_stats.py': FileInfo(300, 130),\n",
    "            'enry.py': FileInfo(122, 126),\n",
    "            'extract.py': FileInfo(318, 294),\n",
    "            'globals.py': FileInfo(28, 28),\n",
    "            'lint.yml': FileInfo(42, 2),\n",
    "            'make_stats.py': FileInfo(46, 1),\n",
    "            'parsefile.py': FileInfo(112, 0),\n",
    "            'pipeline.py': FileInfo(111, 111),\n",
    "            'script.py': FileInfo(183, 74),\n",
    "            'search.py': FileInfo(81, 25),\n",
    "            'setup.py': FileInfo(27, 3),\n",
    "            'stargazers.json': FileInfo(104, 101),\n",
    "            'stargazers.py': FileInfo(124, 36),\n",
    "            'test.py': FileInfo(39, 26),\n",
    "            'test_dev_stats.py': FileInfo(27, 27),\n",
    "            'tree-sitter.py': FileInfo(37, 37),\n",
    "            'treesitter.py': FileInfo(117, 117),\n",
    "            'utils.py': FileInfo(101, 10),\n",
    "        }\n",
    "        programmers[author3] = files3\n",
    "        \n",
    "        author4 = CommitKey(\"Lint Action\", \"lint-action@samuelmeuli.com\")\n",
    "        files4 = {\n",
    "            'dev_stats.py': FileInfo(59, 33),\n",
    "            'extract.py': FileInfo(46, 31),\n",
    "            'make_stats.py': FileInfo(6, 4),\n",
    "            'parsefile.py': FileInfo(46, 20),\n",
    "            'script.py': FileInfo(112, 47),\n",
    "            'search.py': FileInfo(28, 16),\n",
    "            'setup.py': FileInfo(8, 3),\n",
    "            'stargazers.py': FileInfo(12, 8),\n",
    "            'test.py': FileInfo(17, 4),\n",
    "            'utils.py': FileInfo(8, 4),\n",
    "        }\n",
    "        programmers[author4] = files4\n",
    "        \n",
    "        self.assertEqual(len(info), len(programmers))\n",
    "        \n",
    "        for author in info.keys():\n",
    "            self.assertEqual(len(info[author]), len(programmers[author]))\n",
    "            \n",
    "            for key in info[author].keys():\n",
    "                self.assertEqual(info[author][key], programmers[author][key])\n",
    "    \n",
    "    def test_third_repo(self):\n",
    "        \n",
    "        info = findInfo(\"tests/repos/2022_similar_dev_search_petropavlovskiy\")\n",
    "        \n",
    "        programmers = {}\n",
    "        \n",
    "        author1 = CommitKey(\"Egor\", \"egorbu@gmail.com\")\n",
    "        files1 = {\n",
    "            '.gitignore': FileInfo(152, 0),\n",
    "        }\n",
    "        programmers[author1] = files1\n",
    "        \n",
    "        author2 = CommitKey(\"alf3ratz\", \"49417479+alf3ratz@users.noreply.github.com\")\n",
    "        files2 = {\n",
    "            '.gitignore': FileInfo(2, 0),\n",
    "            'Dockerfile': FileInfo(8, 8),\n",
    "            'README.md': FileInfo(36, 3),\n",
    "            'action.yml': FileInfo(16, 16),\n",
    "            'ci.yml': FileInfo(106, 108),\n",
    "            'enry_processor.py': FileInfo(29, 0),\n",
    "            'entrypoint.sh': FileInfo(5, 5),\n",
    "            'git_processor.py': FileInfo(59, 13),\n",
    "            'git_test.py': FileInfo(11, 11),\n",
    "            'helpers.py': FileInfo(176, 38),\n",
    "            'main.py': FileInfo(46, 25),\n",
    "            'preview.png': FileInfo(0, 0),\n",
    "            'requirements.txt': FileInfo(23, 15),\n",
    "            'setup.py': FileInfo(23, 10),\n",
    "            'treesitter.py': FileInfo(48, 0),\n",
    "        }\n",
    "        programmers[author2] = files2\n",
    "        \n",
    "        author3 = CommitKey(\"alf3ratz\", \"apetropavlovskij@yandex.ru\")\n",
    "        files3 = {\n",
    "            'Dockerfile': FileInfo(49, 25),\n",
    "            'README.md': FileInfo(28, 25),\n",
    "            '__init__.py': FileInfo(24, 16),\n",
    "            'ci.yml': FileInfo(162, 290),\n",
    "            'dev-search-result.json': FileInfo(1635, 1635),\n",
    "            'dev_search_result.json': FileInfo(660329, 0),\n",
    "            'docker-push.yml': FileInfo(188, 189),\n",
    "            'enry_processor.py': FileInfo(16, 13),\n",
    "            'enry_test.py': FileInfo(45, 108),\n",
    "            'git_processor.py': FileInfo(12, 6),\n",
    "            'git_test.py': FileInfo(83, 213),\n",
    "            'helpers.py': FileInfo(75, 188),\n",
    "            'list_of_repositories.txt': FileInfo(8, 3),\n",
    "            'main.py': FileInfo(115, 51),\n",
    "            'qwerty.java': FileInfo(33, 66),\n",
    "            'repository_url.txt': FileInfo(3, 3),\n",
    "            'requirements.txt': FileInfo(4, 2),\n",
    "            'setup.py': FileInfo(50, 46),\n",
    "            'simple_test.py': FileInfo(35, 15),\n",
    "            'star.json': FileInfo(79, 0),\n",
    "            'start_app.mp4': FileInfo(0, 0),\n",
    "            'treesitter.py': FileInfo(161, 122),\n",
    "            'treesitter_cloner.py': FileInfo(20, 0),\n",
    "            'treesitter_test.py': FileInfo(57, 137),\n",
    "        }\n",
    "        programmers[author3] = files3\n",
    "        \n",
    "        self.assertEqual(len(info), len(programmers))\n",
    "        \n",
    "        for author in info.keys():\n",
    "            self.assertEqual(len(info[author]), len(programmers[author]))\n",
    "            \n",
    "            for key in info[author].keys():\n",
    "                self.assertEqual(info[author][key], programmers[author][key])\n",
    "    \n",
    "if __name__ == '__main__':\n",
    "    unittest.main(argv=[''], verbosity=2, exit=False)"
   ]
  },
  {
   "cell_type": "code",
   "execution_count": null,
   "id": "8431cec6",
   "metadata": {},
   "outputs": [],
   "source": []
  }
 ],
 "metadata": {
  "kernelspec": {
   "display_name": "Python 3 (ipykernel)",
   "language": "python",
   "name": "python3"
  },
  "language_info": {
   "codemirror_mode": {
    "name": "ipython",
    "version": 3
   },
   "file_extension": ".py",
   "mimetype": "text/x-python",
   "name": "python",
   "nbconvert_exporter": "python",
   "pygments_lexer": "ipython3",
   "version": "3.9.7"
  }
 },
 "nbformat": 4,
 "nbformat_minor": 5
}
